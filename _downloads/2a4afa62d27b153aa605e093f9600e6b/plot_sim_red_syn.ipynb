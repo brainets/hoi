{
  "cells": [
    {
      "cell_type": "markdown",
      "metadata": {},
      "source": [
        "\n# How to simulate redundancy and synergy\n\n:term:`Redundancy` and :term:`Synergy` are terms defining how variables are\ninteracting. In this tutorial, we are going to see simple and intuitive ways\nof simulating redundancy and synergy in two different context :\n\n1. **Network behavior :** i.e. redundant and synergistic interactions between\n   elements (or nodes) of a network\n2. **Network encoding :** i.e. nodes of a network engaged in redundant and\n   synergistic interactions **about** a target variable.\n"
      ]
    },
    {
      "cell_type": "code",
      "execution_count": null,
      "metadata": {
        "collapsed": false
      },
      "outputs": [],
      "source": [
        "import matplotlib.pyplot as plt"
      ]
    },
    {
      "cell_type": "code",
      "execution_count": null,
      "metadata": {
        "collapsed": false
      },
      "outputs": [],
      "source": [
        "import numpy as np\n\nfrom hoi.metrics import GradientOinfo, Oinfo\nfrom hoi.simulation import simulate_hoi_gauss\n\nnp.random.seed(42)\nplt.style.use(\"ggplot\")"
      ]
    },
    {
      "cell_type": "markdown",
      "metadata": {},
      "source": [
        "## Redundant and synergistic network behavior\n\nIn this first part, we are going to create a multivariate gaussian variable\n`X` with specific information patterns. Then we need a function to estimate\nwhether the interactions between the three nodes are more redundant or more\nsynergistic. To estimate whether the interactions between the three nodes are\nredundant or synergistic, we are going to use the\n:class:`hoi.metrics.Oinfo`. When the Oinfo is positive, it means that the\ninteractions are redundant and if the Oinfo is negative, the interactions are\nsynergistic.\n\n"
      ]
    },
    {
      "cell_type": "code",
      "execution_count": null,
      "metadata": {
        "collapsed": false
      },
      "outputs": [],
      "source": [
        "# function to estimate the nature of the interactions\ndef compute_hoi_beh(x):\n    \"\"\"This function computes the HOI using the Oinfo.\"\"\"\n    model = Oinfo(x)\n    hoi = model.fit(method=\"gc\", minsize=3, maxsize=3)\n    return hoi.squeeze()"
      ]
    },
    {
      "cell_type": "markdown",
      "metadata": {},
      "source": [
        "### Simulating synergistic behavior\n\nIn gaussian multivariate data, it is possible to generate synergy and\nredundancy by setting the parameters of the covariance matrix. This can be\ndone using the function :class:`hoi.simulation.simulate_hoi_gauss`, in the\nfollowing way:\n\n"
      ]
    },
    {
      "cell_type": "code",
      "execution_count": null,
      "metadata": {
        "collapsed": false
      },
      "outputs": [],
      "source": [
        "# x = (n_samples, n_nodes)\nx = simulate_hoi_gauss(\n    target=False, n_samples=1000, triplet_character=\"synergy\"\n)"
      ]
    },
    {
      "cell_type": "markdown",
      "metadata": {},
      "source": [
        "compute hoi using the Oinfo\n\n"
      ]
    },
    {
      "cell_type": "code",
      "execution_count": null,
      "metadata": {
        "collapsed": false
      },
      "outputs": [],
      "source": [
        "hoi = compute_hoi_beh(x)"
      ]
    },
    {
      "cell_type": "markdown",
      "metadata": {},
      "source": [
        "Print HOI value\n\n"
      ]
    },
    {
      "cell_type": "code",
      "execution_count": null,
      "metadata": {
        "collapsed": false
      },
      "outputs": [],
      "source": [
        "print(f\"HOI between nodes (1, 2, 3) : {hoi}\")"
      ]
    },
    {
      "cell_type": "markdown",
      "metadata": {},
      "source": [
        "As we can see, the estimated HOI is negative which is the hallmark of\nsynergy when using the Oinfo. Be careful because some metrics are positive\nfor synergistic interactions.\n\n"
      ]
    },
    {
      "cell_type": "markdown",
      "metadata": {},
      "source": [
        "### Simulating redundant behavior\n\nAs for the redundancy, we can generate three gaussian variables, presenting\nredundant behavior, using the function,\n:class:`hoi.simulation.simulate_hoi_gauss`, in the following way:\n\n"
      ]
    },
    {
      "cell_type": "code",
      "execution_count": null,
      "metadata": {
        "collapsed": false
      },
      "outputs": [],
      "source": [
        "# x = (n_samples, n_nodes)\nx = simulate_hoi_gauss(\n    target=False, n_samples=1000, triplet_character=\"redundancy\"\n)"
      ]
    },
    {
      "cell_type": "markdown",
      "metadata": {},
      "source": [
        "compute hoi using the Oinfo\n\n"
      ]
    },
    {
      "cell_type": "code",
      "execution_count": null,
      "metadata": {
        "collapsed": false
      },
      "outputs": [],
      "source": [
        "hoi = compute_hoi_beh(x)"
      ]
    },
    {
      "cell_type": "markdown",
      "metadata": {},
      "source": [
        "Print HOI value\n\n"
      ]
    },
    {
      "cell_type": "code",
      "execution_count": null,
      "metadata": {
        "collapsed": false
      },
      "outputs": [],
      "source": [
        "print(f\"HOI between nodes (1, 2, 3) : {hoi}\")"
      ]
    },
    {
      "cell_type": "markdown",
      "metadata": {},
      "source": [
        "Now HOI is positive, therefore the interaction between the three nodes is\ndominated by redundancy.\n\n"
      ]
    },
    {
      "cell_type": "markdown",
      "metadata": {},
      "source": [
        "### Simulating synergistic behavior by sum operation\n\nA synergy is obtained when elements of a system work together to produce an\neffect that is greater than the sum of their individual contributions. A\nsimple example is the sum. When a variable `A` is defined as the sum of two\nother variables $A = B + C$ then we need both `B` and `C` to know `A`.\nThat's what we are going to use here to simulate synergy.\n\n"
      ]
    },
    {
      "cell_type": "code",
      "execution_count": null,
      "metadata": {
        "collapsed": false
      },
      "outputs": [],
      "source": [
        "# x = (n_samples, n_nodes)\nx = np.random.rand(1000, 3)\n\n# define tha activity of the first node as the sum of the two others\nx[:, 0] = x[:, 0] + x[:, 1] + x[:, 2]"
      ]
    },
    {
      "cell_type": "markdown",
      "metadata": {},
      "source": [
        "compute hoi using the Oinfo\n\n"
      ]
    },
    {
      "cell_type": "code",
      "execution_count": null,
      "metadata": {
        "collapsed": false
      },
      "outputs": [],
      "source": [
        "hoi = compute_hoi_beh(x)"
      ]
    },
    {
      "cell_type": "markdown",
      "metadata": {},
      "source": [
        "Print HOI value\n\n"
      ]
    },
    {
      "cell_type": "code",
      "execution_count": null,
      "metadata": {
        "collapsed": false
      },
      "outputs": [],
      "source": [
        "print(f\"HOI between nodes (1, 2, 3) : {hoi}\")"
      ]
    },
    {
      "cell_type": "markdown",
      "metadata": {},
      "source": [
        "Now HOI is negative, therefore the interaction between the three nodes is\ndominated by synergy.\n\n"
      ]
    },
    {
      "cell_type": "markdown",
      "metadata": {},
      "source": [
        "### Simulating redundant behavior by copy operator\n\nRedundancy can emerge when nodes (1, 2, 3) in the system `X` are receiving\nmultiple copies of the same information. A simple way to simulate redundancy\nconsists in taking the signal of one node, let's say the first one, and copy\nthis signal to the two other nodes.\n\n"
      ]
    },
    {
      "cell_type": "code",
      "execution_count": null,
      "metadata": {
        "collapsed": false
      },
      "outputs": [],
      "source": [
        "# x = (n_samples, n_nodes)\nx = np.random.rand(1000, 3)\n\nx[:, 1] = x[:, 1] + x[:, 0]  # 1 = 1 + 0\nx[:, 2] = x[:, 2] + x[:, 0]  # 2 = 2 + 0"
      ]
    },
    {
      "cell_type": "markdown",
      "metadata": {},
      "source": [
        "compute hoi using the Oinfo\n\n"
      ]
    },
    {
      "cell_type": "code",
      "execution_count": null,
      "metadata": {
        "collapsed": false
      },
      "outputs": [],
      "source": [
        "hoi = compute_hoi_beh(x)"
      ]
    },
    {
      "cell_type": "markdown",
      "metadata": {},
      "source": [
        "Print HOI value\n\n"
      ]
    },
    {
      "cell_type": "code",
      "execution_count": null,
      "metadata": {
        "collapsed": false
      },
      "outputs": [],
      "source": [
        "print(f\"HOI between nodes (1, 2, 3) : {hoi}\")"
      ]
    },
    {
      "cell_type": "markdown",
      "metadata": {},
      "source": [
        "As we can see, the estimated HOI is positive which is the hallmark of\nredundancy when using the Oinfo.\n\n"
      ]
    },
    {
      "cell_type": "markdown",
      "metadata": {},
      "source": [
        "### Simulating dynamic redundancy and synergy\n\nIn the same way, we can simulate dynamic redundancy and synergy (i.e. the\nrelationship between variables evolves over time). Here, we are going to use\nthe same trick as above to simulate redundancy and synergy except that the\nrelationship is going to be modulated by a temporal hanning window.\n\n"
      ]
    },
    {
      "cell_type": "code",
      "execution_count": null,
      "metadata": {
        "collapsed": false
      },
      "outputs": [],
      "source": [
        "# simulate a dynamic network\nx = np.random.rand(1000, 3, 100)\n\n# define a window to modulate the interactions\nwin = np.hanning(30).reshape(1, -1)\n\n# inject redundancy between samples [20, 50]\nx_ref = x[:, 0, 20:50] * win\nx[:, 1, 20:50] += x_ref\nx[:, 2, 20:50] += x_ref\n\n# inject synergy between samples [50, 80]\nx[:, 0, 50:80] += win * (x[:, 1, 50:80] + x[:, 2, 50:80])\n\n# compute the dynamic hoi\nhoi = compute_hoi_beh(x)\nh_max = max(abs(hoi.max()), abs(hoi.min()))\n\n# plot the result\nplt.plot(hoi)\nplt.xlim(0.0, 100)\nplt.ylim(-h_max, h_max)\nplt.xlabel(\"Times\")\nplt.ylabel(\"Oinfo [bits]\")\nplt.title(\"Dynamic HOI\", fontweight=\"bold\")"
      ]
    },
    {
      "cell_type": "markdown",
      "metadata": {},
      "source": [
        "## Redundant and synergistic network encoding\n\nIn this second part, we are going to switch for encoding measure, in the sens\nthat elements of a network areg going to carry redundant or synergistic\ninformation **about** an external variable. To estimate HOI about a target\nvariable `Y`, we're going to use the :class:`hoi.metrics.GradientOinfo`. To\nsimulate redundancy and synergy, we're going to use the same methods as\nbefore.\n\n"
      ]
    },
    {
      "cell_type": "code",
      "execution_count": null,
      "metadata": {
        "collapsed": false
      },
      "outputs": [],
      "source": [
        "# function to estimate the nature of the interactions\ndef compute_hoi_enc(x, y):\n    \"\"\"This function computes the HOI using the Oinfo.\"\"\"\n    model = GradientOinfo(x, y)\n    hoi = model.fit(method=\"gc\", minsize=3, maxsize=3)\n    return hoi.squeeze()"
      ]
    },
    {
      "cell_type": "markdown",
      "metadata": {},
      "source": [
        "### Simulating redundant encoding\n\nTo simulate redundancy between a triplet of variable `X` and a target\nvariable `Y`, we are going to use the same function as before\n:class:`hoi.simulation.simulate_hoi_gauss` but this time, we are going to\nprecise that we want a target by setting `target=True`.\n\n"
      ]
    },
    {
      "cell_type": "code",
      "execution_count": null,
      "metadata": {
        "collapsed": false
      },
      "outputs": [],
      "source": [
        "# x = (n_samples, n_nodes)\nx, y = simulate_hoi_gauss(\n    target=True, n_samples=1000, triplet_character=\"redundancy\"\n)"
      ]
    },
    {
      "cell_type": "markdown",
      "metadata": {},
      "source": [
        "compute hoi\n\n"
      ]
    },
    {
      "cell_type": "code",
      "execution_count": null,
      "metadata": {
        "collapsed": false
      },
      "outputs": [],
      "source": [
        "hoi = compute_hoi_enc(x, y)"
      ]
    },
    {
      "cell_type": "markdown",
      "metadata": {},
      "source": [
        "Print HOI value\n\n"
      ]
    },
    {
      "cell_type": "code",
      "execution_count": null,
      "metadata": {
        "collapsed": false
      },
      "outputs": [],
      "source": [
        "print(f\"HOI between nodes (1, 2, 3) about y : {hoi}\")"
      ]
    },
    {
      "cell_type": "markdown",
      "metadata": {},
      "source": [
        "the estimated HOI is positive which represents redundant interactions between\nthe three nodes about `Y`.\n\n"
      ]
    },
    {
      "cell_type": "markdown",
      "metadata": {},
      "source": [
        "### Simulating synergistic encoding\n\nSimilarly, we can simulate a synergistic network encoding behavior by\nsetting `target=True` and a synergistic behavior.\n\n"
      ]
    },
    {
      "cell_type": "code",
      "execution_count": null,
      "metadata": {
        "collapsed": false
      },
      "outputs": [],
      "source": [
        "# x = (n_samples, n_nodes)\nx, y = simulate_hoi_gauss(\n    target=True, n_samples=1000, triplet_character=\"synergy\"\n)"
      ]
    },
    {
      "cell_type": "markdown",
      "metadata": {},
      "source": [
        "compute hoi\n\n"
      ]
    },
    {
      "cell_type": "code",
      "execution_count": null,
      "metadata": {
        "collapsed": false
      },
      "outputs": [],
      "source": [
        "hoi = compute_hoi_enc(x, y)"
      ]
    },
    {
      "cell_type": "markdown",
      "metadata": {},
      "source": [
        "Print HOI value\n\n"
      ]
    },
    {
      "cell_type": "code",
      "execution_count": null,
      "metadata": {
        "collapsed": false
      },
      "outputs": [],
      "source": [
        "print(f\"HOI between nodes (1, 2, 3) about y : {hoi}\")"
      ]
    },
    {
      "cell_type": "markdown",
      "metadata": {},
      "source": [
        "the estimated HOI is negative which represents synergistic interactions\nbetween the three nodes about `Y`.\n\n"
      ]
    },
    {
      "cell_type": "markdown",
      "metadata": {},
      "source": [
        "### Simulating redundant encoding by copy operation\n\nTo simulate redundancy, we copy the `Y` variable into each node of `X`\n\n"
      ]
    },
    {
      "cell_type": "code",
      "execution_count": null,
      "metadata": {
        "collapsed": false
      },
      "outputs": [],
      "source": [
        "# x = (n_samples, n_nodes)\nx = np.random.rand(1000, 3)\ny = np.random.rand(1000)\n\n# inject y in all nodes\nx[:, 0] += y\nx[:, 1] += y\nx[:, 2] += y"
      ]
    },
    {
      "cell_type": "markdown",
      "metadata": {},
      "source": [
        "compute hoi\n\n"
      ]
    },
    {
      "cell_type": "code",
      "execution_count": null,
      "metadata": {
        "collapsed": false
      },
      "outputs": [],
      "source": [
        "hoi = compute_hoi_enc(x, y)"
      ]
    },
    {
      "cell_type": "markdown",
      "metadata": {},
      "source": [
        "Print HOI value\n\n"
      ]
    },
    {
      "cell_type": "code",
      "execution_count": null,
      "metadata": {
        "collapsed": false
      },
      "outputs": [],
      "source": [
        "print(f\"HOI between nodes (1, 2, 3) about y : {hoi}\")"
      ]
    },
    {
      "cell_type": "markdown",
      "metadata": {},
      "source": [
        "the estimated HOI is positive which represents redundant interactions between\nthe three nodes about `Y`.\n\n"
      ]
    },
    {
      "cell_type": "markdown",
      "metadata": {},
      "source": [
        "### Simulating synergistic encoding by sum operation\n\nTo simulate synergy, we define the `Y` variable as the sum of the three nodes\n\n"
      ]
    },
    {
      "cell_type": "code",
      "execution_count": null,
      "metadata": {
        "collapsed": false
      },
      "outputs": [],
      "source": [
        "# x = (n_samples, n_nodes)\nx = np.random.rand(1000, 3)\ny = x[:, 0] + x[:, 1] + x[:, 2]"
      ]
    },
    {
      "cell_type": "markdown",
      "metadata": {},
      "source": [
        "compute hoi\n\n"
      ]
    },
    {
      "cell_type": "code",
      "execution_count": null,
      "metadata": {
        "collapsed": false
      },
      "outputs": [],
      "source": [
        "hoi = compute_hoi_enc(x, y)"
      ]
    },
    {
      "cell_type": "markdown",
      "metadata": {},
      "source": [
        "Print HOI value\n\n"
      ]
    },
    {
      "cell_type": "code",
      "execution_count": null,
      "metadata": {
        "collapsed": false
      },
      "outputs": [],
      "source": [
        "print(f\"HOI between nodes (1, 2, 3) about y : {hoi}\")"
      ]
    },
    {
      "cell_type": "markdown",
      "metadata": {},
      "source": [
        "the estimated HOI is negative which represents synergistic interactions\nbetween the three nodes about `Y`.\n\n"
      ]
    },
    {
      "cell_type": "markdown",
      "metadata": {},
      "source": [
        "### Simulating dynamic redundant and synergistic encoding\n\nFinally, in the previous example, we used a static `X` and `X`. We can define\na dynamic network and a dynamic target to simulate time-varying redundant\nand synergistic interactions about `Y`.\n\n"
      ]
    },
    {
      "cell_type": "code",
      "execution_count": null,
      "metadata": {
        "collapsed": false
      },
      "outputs": [],
      "source": [
        "# simulate a dynamic network\nx = np.random.rand(1000, 3, 100)\ny = np.random.rand(1000, 1, 100)\n\n# define a window to modulate the interactions\nwin = np.hanning(30).reshape(1, -1)\n\n# inject redundancy between samples [20, 50]\nx[:, [0], 20:50] += y[:, :, 20:50] * win\nx[:, [1], 20:50] += y[:, :, 20:50] * win\nx[:, [2], 20:50] += y[:, :, 20:50] * win\n\n\n# inject synergy between samples [50, 80]\ny[:, :, 50:80] += win * (\n    x[:, [0], 50:80] + x[:, [1], 50:80] + x[:, [2], 50:80]\n)\n\n# compute the dynamic hoi\nhoi = compute_hoi_enc(x, y)\nh_max = max(abs(hoi.max()), abs(hoi.min()))\n\n# plot the result\nplt.plot(hoi)\nplt.xlim(0.0, 100)\nplt.ylim(-h_max, h_max)\nplt.xlabel(\"Times\")\nplt.ylabel(\"Oinfo [bits]\")\nplt.title(\"Dynamic HOI\", fontweight=\"bold\")\nplt.show()"
      ]
    }
  ],
  "metadata": {
    "kernelspec": {
      "display_name": "Python 3",
      "language": "python",
      "name": "python3"
    },
    "language_info": {
      "codemirror_mode": {
        "name": "ipython",
        "version": 3
      },
      "file_extension": ".py",
      "mimetype": "text/x-python",
      "name": "python",
      "nbconvert_exporter": "python",
      "pygments_lexer": "ipython3",
      "version": "3.9.23"
    }
  },
  "nbformat": 4,
  "nbformat_minor": 0
}
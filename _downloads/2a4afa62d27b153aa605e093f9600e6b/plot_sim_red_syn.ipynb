{
  "cells": [
    {
      "cell_type": "markdown",
      "metadata": {},
      "source": [
        "\n# How to simulate redundancy and synergy\n\n:term:`Redundancy` and :term:`Synergy` are terms defining how variables are\ninteracting. In this tutorial, we are going to see simple and intuitive ways\nof simulating redundancy and synergy in two different context :\n\n1. **Network behavior :** i.e. redundant and synergistic interactions between\n   elements (or nodes) of a network\n2. **Network encoding :** i.e. nodes of a network engaged in redundant and\n   synergistic interactions **about** a target variable.\n"
      ]
    },
    {
      "cell_type": "code",
      "execution_count": null,
      "metadata": {
        "collapsed": false
      },
      "outputs": [],
      "source": [
        "import numpy as np\n\nfrom hoi.metrics import Oinfo, GradientOinfo\n\nimport matplotlib.pyplot as plt\n\nnp.random.seed(42)\nplt.style.use(\"ggplot\")"
      ]
    },
    {
      "cell_type": "markdown",
      "metadata": {},
      "source": [
        "## Redundant and synergistic behavior\n\nIn this first part, we are going to create a random variable `x`, a network\ncomposed of three nodes (1, 2, 3). Then we need a function to estimate\nwhether the interactions between the three nodes are more redundant or more\nsynergistic. To estimate whether the interactions between the three nodes are\nredundant or # synergistic, we are gonig to use the\n:class:`hoi.metrics.Oinfo`. When the Oinfo is positive, it means that the\ninteractions are redundant and if the Oinfo is negative, the interactions are\nsynergistic.\n\n"
      ]
    },
    {
      "cell_type": "code",
      "execution_count": null,
      "metadata": {
        "collapsed": false
      },
      "outputs": [],
      "source": [
        "# function to estimate the nature of the interactions\ndef compute_hoi_beh(x):\n    \"\"\"This function computes the HOI using the Oinfo.\"\"\"\n    model = Oinfo(x)\n    hoi = model.fit(method=\"gc\", minsize=3, maxsize=3)\n    return hoi.squeeze()"
      ]
    },
    {
      "cell_type": "markdown",
      "metadata": {},
      "source": [
        "### Simulating redundant behavior\n\nThe redundancy means that the nodes (1, 2, 3) in the system `x` are receiving\nmultiple copies of the same information. A simple way to simulate redundancy\nconsists in taking the signal of one node, let's say the first one, and copy\nthis signal to the two other nodes.\n\n"
      ]
    },
    {
      "cell_type": "code",
      "execution_count": null,
      "metadata": {
        "collapsed": false
      },
      "outputs": [],
      "source": [
        "# x = (n_samples, n_nodes)\nx = np.random.rand(1000, 3)\n\nx[:, 1] = x[:, 1] + x[:, 0]  # 1 = 1 & 0\nx[:, 2] = x[:, 2] + x[:, 0]  # 2 = 2 & 0"
      ]
    },
    {
      "cell_type": "markdown",
      "metadata": {},
      "source": [
        "compute hoi using the Oinfo\n\n"
      ]
    },
    {
      "cell_type": "code",
      "execution_count": null,
      "metadata": {
        "collapsed": false
      },
      "outputs": [],
      "source": [
        "hoi = compute_hoi_beh(x)"
      ]
    },
    {
      "cell_type": "markdown",
      "metadata": {},
      "source": [
        "Print HOI value\n\n"
      ]
    },
    {
      "cell_type": "code",
      "execution_count": null,
      "metadata": {
        "collapsed": false
      },
      "outputs": [],
      "source": [
        "print(f\"HOI between nodes (1, 2, 3) : {hoi}\")"
      ]
    },
    {
      "cell_type": "markdown",
      "metadata": {},
      "source": [
        "As we can see, the estimated HOI is positive which is the hallmark of\nredundancy when using the Oinfo. Be careful because some metrics are negative\nfor redundant interactions.\n\n"
      ]
    },
    {
      "cell_type": "markdown",
      "metadata": {},
      "source": [
        "### Simulating synergistic behavior\n\nA synergy is obtained when elements of a system work together to produce an\neffect that is greater than the sum of their individual contributions. A\nsimple example is the sum. When a variable `A` is defined as the sum of two\nother variables $A = B + C$ then we need both `B` and `C` to know `A`.\nThat's what we are going to use here to simulate synergy.\n\n"
      ]
    },
    {
      "cell_type": "code",
      "execution_count": null,
      "metadata": {
        "collapsed": false
      },
      "outputs": [],
      "source": [
        "# x = (n_samples, n_nodes)\nx = np.random.rand(1000, 3)\n\n# define tha activity of the first node as the sum of the two others\nx[:, 0] = x[:, 0] + x[:, 1] + x[:, 2]"
      ]
    },
    {
      "cell_type": "markdown",
      "metadata": {},
      "source": [
        "compute hoi using the Oinfo\n\n"
      ]
    },
    {
      "cell_type": "code",
      "execution_count": null,
      "metadata": {
        "collapsed": false
      },
      "outputs": [],
      "source": [
        "hoi = compute_hoi_beh(x)"
      ]
    },
    {
      "cell_type": "markdown",
      "metadata": {},
      "source": [
        "Print HOI value\n\n"
      ]
    },
    {
      "cell_type": "code",
      "execution_count": null,
      "metadata": {
        "collapsed": false
      },
      "outputs": [],
      "source": [
        "print(f\"HOI between nodes (1, 2, 3) : {hoi}\")"
      ]
    },
    {
      "cell_type": "markdown",
      "metadata": {},
      "source": [
        "Now HOI is negative, therefore the interaction between the three nodes is\ndominated by synergy.\n\n"
      ]
    },
    {
      "cell_type": "markdown",
      "metadata": {},
      "source": [
        "### Simulating dynamic redundancy and synergy\n\nA synergy is obtained when elements of a system work together to produce an\neffect that is greater than the sum of their individual contributions. A\nsimple example is the sum. When a variable `A` is defined as the sum of two\nother variables $A = B + C$ then we need both `B` and `C` to know `A`.\nThat's what we are going to use here to simulate synergy.\n\n"
      ]
    },
    {
      "cell_type": "code",
      "execution_count": null,
      "metadata": {
        "collapsed": false
      },
      "outputs": [],
      "source": [
        "# simulate a dynamic network\nx = np.random.rand(1000, 3, 100)\n\n# define a window to modulate the interactions\nwin = np.hanning(30).reshape(1, -1)\n\n# inject redundancy between samples [20, 50]\nx_ref = x[:, 0, 20:50] * win\nx[:, 1, 20:50] += x_ref\nx[:, 2, 20:50] += x_ref\n\n# inject synergy between samples [50, 80]\nx[:, 0, 50:80] += win * (x[:, 1, 50:80] + x[:, 2, 50:80])\n\n# compute the dynamic hoi\nhoi = compute_hoi_beh(x)\nh_max = max(abs(hoi.max()), abs(hoi.min()))\n\n# plot the result\nplt.plot(hoi)\nplt.xlim(0.0, 100)\nplt.ylim(-h_max, h_max)\nplt.xlabel(\"Times\")\nplt.ylabel(\"Oinfo [bits]\")\nplt.title(\"Dynamic HOI\", fontweight=\"bold\")"
      ]
    },
    {
      "cell_type": "markdown",
      "metadata": {},
      "source": [
        "## Redundant and synergistic encoding\n\nIn this second part, we are going to switch for encoding measure, in the sens\nthat elements of a network areg going to carry redundant or synergistic\ninformation about an external variable. To estimate HOI about a target\nvariable `y`, we're going to use the :class:`hoi.metrics.GradientOinfo`. To\nsimulate redundancy and synergy, we're going to use the same method as\nbefore.\n\n"
      ]
    },
    {
      "cell_type": "code",
      "execution_count": null,
      "metadata": {
        "collapsed": false
      },
      "outputs": [],
      "source": [
        "# function to estimate the nature of the interactions\ndef compute_hoi_enc(x, y):\n    \"\"\"This function computes the HOI using the Oinfo.\"\"\"\n    model = GradientOinfo(x, y)\n    hoi = model.fit(method=\"gc\", minsize=3, maxsize=3)\n    return hoi.squeeze()"
      ]
    },
    {
      "cell_type": "markdown",
      "metadata": {},
      "source": [
        "### Simulating redundant encoding\n\nTo simulate redundancy, we copy the y variable into each node of x\n\n"
      ]
    },
    {
      "cell_type": "code",
      "execution_count": null,
      "metadata": {
        "collapsed": false
      },
      "outputs": [],
      "source": [
        "# x = (n_samples, n_nodes)\nx = np.random.rand(1000, 3)\ny = np.random.rand(1000)\n\n# inject y in all nodes\nx[:, 0] += y\nx[:, 1] += y\nx[:, 2] += y"
      ]
    },
    {
      "cell_type": "markdown",
      "metadata": {},
      "source": [
        "compute hoi\n\n"
      ]
    },
    {
      "cell_type": "code",
      "execution_count": null,
      "metadata": {
        "collapsed": false
      },
      "outputs": [],
      "source": [
        "hoi = compute_hoi_enc(x, y)"
      ]
    },
    {
      "cell_type": "markdown",
      "metadata": {},
      "source": [
        "Print HOI value\n\n"
      ]
    },
    {
      "cell_type": "code",
      "execution_count": null,
      "metadata": {
        "collapsed": false
      },
      "outputs": [],
      "source": [
        "print(f\"HOI between nodes (1, 2, 3) about y : {hoi}\")"
      ]
    },
    {
      "cell_type": "markdown",
      "metadata": {},
      "source": [
        "the estimated HOI is positive which represents redundant interactions between\nthe three nodes about y.\n\n"
      ]
    },
    {
      "cell_type": "markdown",
      "metadata": {},
      "source": [
        "### Simulating synergistic encoding\n\nTo simulate synergy, we define the y variable as the sum of the three nodes\n\n"
      ]
    },
    {
      "cell_type": "code",
      "execution_count": null,
      "metadata": {
        "collapsed": false
      },
      "outputs": [],
      "source": [
        "# x = (n_samples, n_nodes)\nx = np.random.rand(1000, 3)\ny = x[:, 0] + x[:, 1] + x[:, 2]"
      ]
    },
    {
      "cell_type": "markdown",
      "metadata": {},
      "source": [
        "compute hoi\n\n"
      ]
    },
    {
      "cell_type": "code",
      "execution_count": null,
      "metadata": {
        "collapsed": false
      },
      "outputs": [],
      "source": [
        "hoi = compute_hoi_enc(x, y)"
      ]
    },
    {
      "cell_type": "markdown",
      "metadata": {},
      "source": [
        "Print HOI value\n\n"
      ]
    },
    {
      "cell_type": "code",
      "execution_count": null,
      "metadata": {
        "collapsed": false
      },
      "outputs": [],
      "source": [
        "print(f\"HOI between nodes (1, 2, 3) about y : {hoi}\")"
      ]
    },
    {
      "cell_type": "markdown",
      "metadata": {},
      "source": [
        "the estimated HOI is negative which represents synergistic interactions\nbetween the three nodes about y.\n\n"
      ]
    },
    {
      "cell_type": "markdown",
      "metadata": {},
      "source": [
        "### Simulating dynamic redundant and synergistic encoding\n\nFinally, in the previous example, we used a static `x` and `y`. We can define\na dynamic network and a dynamic target to simulate time-varying redundant\nand synergistic interactions about y.\n\n"
      ]
    },
    {
      "cell_type": "code",
      "execution_count": null,
      "metadata": {
        "collapsed": false
      },
      "outputs": [],
      "source": [
        "# simulate a dynamic network\nx = np.random.rand(1000, 3, 100)\ny = np.random.rand(1000, 1, 100)\n\n# define a window to modulate the interactions\nwin = np.hanning(30).reshape(1, -1)\n\n# inject redundancy between samples [20, 50]\nx[:, [0], 20:50] += y[:, :, 20:50] * win\nx[:, [1], 20:50] += y[:, :, 20:50] * win\nx[:, [2], 20:50] += y[:, :, 20:50] * win\n\n\n# inject synergy between samples [50, 80]\ny[:, :, 50:80] += win * (\n    x[:, [0], 50:80] + x[:, [1], 50:80] + x[:, [2], 50:80]\n)\n\n# compute the dynamic hoi\nhoi = compute_hoi_enc(x, y)\nh_max = max(abs(hoi.max()), abs(hoi.min()))\n\n# plot the result\nplt.plot(hoi)\nplt.xlim(0.0, 100)\nplt.ylim(-h_max, h_max)\nplt.xlabel(\"Times\")\nplt.ylabel(\"Oinfo [bits]\")\nplt.title(\"Dynamic HOI\", fontweight=\"bold\")"
      ]
    }
  ],
  "metadata": {
    "kernelspec": {
      "display_name": "Python 3",
      "language": "python",
      "name": "python3"
    },
    "language_info": {
      "codemirror_mode": {
        "name": "ipython",
        "version": 3
      },
      "file_extension": ".py",
      "mimetype": "text/x-python",
      "name": "python",
      "nbconvert_exporter": "python",
      "pygments_lexer": "ipython3",
      "version": "3.9.19"
    }
  },
  "nbformat": 4,
  "nbformat_minor": 0
}
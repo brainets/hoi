{
  "cells": [
    {
      "cell_type": "markdown",
      "metadata": {},
      "source": [
        "\n# Quick introduction to jax\n\n[Jax](https://github.com/google/jax) is a Python library allowing to perform\nlinear algebra operations on CPU or GPU using the same code.\n\nIn this short example we will introduce to some basics of Jax, at least the\nmodules and functions used in HOI. In particular, we will see :\n\n1. The jax.numpy module\n2. How to compile functions using jit\n3. How to use vmap\n4. How to write efficient `for` loops in jax\n"
      ]
    },
    {
      "cell_type": "markdown",
      "metadata": {},
      "source": [
        "## Jax.numpy module\n\nJax has a module called `numpy`. As the name suggests, it allows to write\nNumPy like code except that it can be executed on CPU or on GPU.\n\n"
      ]
    },
    {
      "cell_type": "code",
      "execution_count": null,
      "metadata": {
        "collapsed": false
      },
      "outputs": [],
      "source": [
        "import timeit"
      ]
    },
    {
      "cell_type": "code",
      "execution_count": null,
      "metadata": {
        "collapsed": false
      },
      "outputs": [],
      "source": [
        "from functools import partial\n\nimport jax\nimport jax.numpy as jnp\nimport numpy as np\n\nx = jnp.asarray([1, 2, 3, 1, 6, 9, 3])\n\nprint(f\"x : {x}\")\nprint(f\"Sum : {x.sum()}\")\nprint(f\"Mean : {x.mean()}\")\nprint(f\"Min / max : {x.min()} / {x.max()}\")\nprint(f\"Unique elements : {jnp.unique(x)}\")\nprint(f\"Dot product :\\n{jnp.dot(x.reshape(-1, 1), x.reshape(1, -1))}\")"
      ]
    },
    {
      "cell_type": "markdown",
      "metadata": {},
      "source": [
        "One noticeable difference is how to change values in an array :\n\n"
      ]
    },
    {
      "cell_type": "code",
      "execution_count": null,
      "metadata": {
        "collapsed": false
      },
      "outputs": [],
      "source": [
        "print(f\"Updating value : {x.at[0].set(33)}\")"
      ]
    },
    {
      "cell_type": "markdown",
      "metadata": {},
      "source": [
        "Further resources :\n\n    * https://jax.readthedocs.io/en/latest/jax.numpy.html : NumPy\n       functions implemented in jax\n    * https://jax.readthedocs.io/en/latest/jax.scipy.html : equivalent for\n      scipy\n\n"
      ]
    },
    {
      "cell_type": "markdown",
      "metadata": {},
      "source": [
        "## Compiling functions using jit\n\nFunctions written in Jax can be compiled using `jax.jit`. This can lead to\nhigher performance.\n\n"
      ]
    },
    {
      "cell_type": "code",
      "execution_count": null,
      "metadata": {
        "collapsed": false
      },
      "outputs": [],
      "source": [
        "# Number of times to repeat the test\nnumber = 100000\nx_np = np.random.rand(1000)\ny_np = np.random.rand(1000)\nx_jax = jnp.asarray(x_np)\ny_jax = jnp.asarray(y_np)\n\n\ndef numpy_eucl():\n    return np.sqrt(np.sum((x_np - y_np) ** 2))\n\n\n@jax.jit\ndef jax_eucl():\n    return jnp.sqrt(jnp.sum((x_jax - y_jax) ** 2))\n\n\njax_eucl()  # dry run\n\n\nt1 = timeit.timeit(numpy_eucl, number=number)\nprint(f\"Time taken by pure NumPy function: {t1} seconds\")\n\nt2 = timeit.timeit(jax_eucl, number=number)\nprint(f\"Time taken by jitted function: {t2} seconds\")"
      ]
    },
    {
      "cell_type": "markdown",
      "metadata": {},
      "source": [
        "if the function takes optional argument, you can use the `static_argnums`\nand specify the position of the optional argument.\n\n"
      ]
    },
    {
      "cell_type": "code",
      "execution_count": null,
      "metadata": {
        "collapsed": false
      },
      "outputs": [],
      "source": [
        "@partial(jax.jit, static_argnums=1)\ndef fcn(x, exponent=3):\n    return x**exponent\n\n\nprint(fcn(x, exponent=3))"
      ]
    },
    {
      "cell_type": "markdown",
      "metadata": {},
      "source": [
        "Further resources :\n\n    * https://jax.readthedocs.io/en/latest/jit-compilation.html : jax\n      tutorial on how to use jit\n\n"
      ]
    },
    {
      "cell_type": "markdown",
      "metadata": {},
      "source": [
        "## vmap : vectorize a function\n\nvmap allows you to vectorize a function. In short, let say that you have a\nfunction that takes as an input a vector and return a floating point. Then,\nimagine that you've a 3d array and you want to apply this function along the\nfirst two dimensions. vmap allows you to do such thing.\n\n"
      ]
    },
    {
      "cell_type": "code",
      "execution_count": null,
      "metadata": {
        "collapsed": false
      },
      "outputs": [],
      "source": [
        "def minmax(x):\n    \"\"\"This function returns the distance between the max and the min of a\n    vector, divided by 2.\n    \"\"\"\n    return (x.max() - x.min()) / 2.0\n\n\n# define a 2d array\nx = jnp.asarray(np.random.rand(10, 20))\nprint(x.shape)\n\n# let's apply our function to the first and second axis\nminmax_2d = jax.vmap(minmax, in_axes=0)\nprint(minmax_2d(x).shape)"
      ]
    },
    {
      "cell_type": "markdown",
      "metadata": {},
      "source": [
        "the function kind of loop of the first axis and for each vector of shape\n(20,), apply the minmax function. The same can be done over the second axis.\n\n"
      ]
    },
    {
      "cell_type": "code",
      "execution_count": null,
      "metadata": {
        "collapsed": false
      },
      "outputs": [],
      "source": [
        "minmax_2d = jax.vmap(minmax, in_axes=1)\nprint(minmax_2d(x).shape)"
      ]
    },
    {
      "cell_type": "markdown",
      "metadata": {},
      "source": [
        "Now imagine that you have a 3d array x and you want to apply the function over\nthe first and second axes. You can wrap your function twice with vmap.\n\n"
      ]
    },
    {
      "cell_type": "code",
      "execution_count": null,
      "metadata": {
        "collapsed": false
      },
      "outputs": [],
      "source": [
        "# define a 3d array\nx = jnp.asarray(np.random.rand(10, 20, 30))\nprint(x.shape)\n\n# wrap twice\nminmax_3d = jax.vmap(jax.vmap(minmax, in_axes=0), in_axes=0)\nprint(minmax_3d(x).shape)\n\n# finally, you can jit your vectorize function\nminmax_3d_jit = jax.jit(minmax_3d)\nprint(minmax_3d(x).shape)"
      ]
    },
    {
      "cell_type": "markdown",
      "metadata": {},
      "source": [
        "Further resources :\n\n    * https://jax.readthedocs.io/en/latest/automatic-vectorization.html : jax\n      tutorial on how to use vmap\n\n"
      ]
    },
    {
      "cell_type": "markdown",
      "metadata": {},
      "source": [
        "## For loops with jax\n\nFor loops in Python are known to be relatively slow. Jax allows to have\ncompiled and therefore efficient for loops. For an introduction to\n`jax.lax.scan`, see :\n\n    * https://jax.readthedocs.io/en/latest/_autosummary/jax.lax.scan.html#jax.lax.scan :\n      official documentation\n    * https://www.nelsontang.com/blog/a-friendly-introduction-to-scan-with-jax :\n      nice introduction to `jax.lax.scan`\n\n"
      ]
    }
  ],
  "metadata": {
    "kernelspec": {
      "display_name": "Python 3",
      "language": "python",
      "name": "python3"
    },
    "language_info": {
      "codemirror_mode": {
        "name": "ipython",
        "version": 3
      },
      "file_extension": ".py",
      "mimetype": "text/x-python",
      "name": "python",
      "nbconvert_exporter": "python",
      "pygments_lexer": "ipython3",
      "version": "3.9.23"
    }
  },
  "nbformat": 4,
  "nbformat_minor": 0
}
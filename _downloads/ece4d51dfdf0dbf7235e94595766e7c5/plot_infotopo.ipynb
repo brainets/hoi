{
  "cells": [
    {
      "cell_type": "markdown",
      "metadata": {},
      "source": [
        "\n# Topological Information : conditioning on orders\n\nThis example illustrates a metric called Topological Information published by\nBaudot et al., 2019 :cite:`baudot2019infotopo`. This metric is based on\ndifferences of entropies and can be used to estimate Higher Order Interactions.\nOne important feature of this metric relies on its ability to isolate an order.\nTo be clear, we are going to see in this example that if we simulate a\nredundancy at order 3, a metric as the O-information (\n:class:`hoi.metrics.Oinfo`) is going to return reduandancy for all of the\nquadruplets that are going to include the redundant triplet. However, the\n:class:`hoi.metrics.InfoTopo` is capable of isolating only the redundant\ntriplet.\n"
      ]
    },
    {
      "cell_type": "code",
      "execution_count": null,
      "metadata": {
        "collapsed": false
      },
      "outputs": [],
      "source": [
        "import numpy as np\n\nfrom hoi.metrics import InfoTopo, Oinfo\nfrom hoi.utils import get_nbest_mult\nfrom hoi.plot import plot_landscape\n\nimport matplotlib.pyplot as plt\n\nplt.style.use(\"ggplot\")"
      ]
    },
    {
      "cell_type": "markdown",
      "metadata": {},
      "source": [
        "## Simulate redundant and synergistic interactions\n\nLet's start by simulating a small network of 7 nodes with 1000 samples each.\nThen we're going to introduce redundancy between the triplet (0, 1, 2) and\nsynergy between the quadruplet (3, 4, 5, 6)\n\n"
      ]
    },
    {
      "cell_type": "code",
      "execution_count": null,
      "metadata": {
        "collapsed": false
      },
      "outputs": [],
      "source": [
        "# 7 nodes network with 1000 samples each\nx = np.random.rand(1000, 7)\n\n# redundant interactions between triplet of nodes (0, 1, 2)\nx[:, 1] += x[:, 0]\nx[:, 2] += x[:, 0]\n\n# synergistic interactions between quadruplet of nodes (3, 4, 5, 6)\nx[:, 3] += x[:, 4] + x[:, 5] + x[:, 6]"
      ]
    },
    {
      "cell_type": "markdown",
      "metadata": {},
      "source": [
        "## Spatial spreading : the problem with the O-information\n\nLet's compute the HOI using the O-information\n\n"
      ]
    },
    {
      "cell_type": "code",
      "execution_count": null,
      "metadata": {
        "collapsed": false
      },
      "outputs": [],
      "source": [
        "model = Oinfo(x)\nhoi = model.fit(minsize=3, method=\"gc\")"
      ]
    },
    {
      "cell_type": "markdown",
      "metadata": {},
      "source": [
        "Now we can plot the landscape. This landscape show the values of HOI for\ndifferent orders. As a reminder, for the O-information, positive values stand\nfor redundant interactions while negative values stand for synergistic\ninteractions.\n\n"
      ]
    },
    {
      "cell_type": "code",
      "execution_count": null,
      "metadata": {
        "collapsed": false
      },
      "outputs": [],
      "source": [
        "plot_landscape(\n    hoi,\n    model=model,\n    kind=\"scatter\",\n    plt_kwargs=dict(cmap=\"Spectral_r\"),\n    undersampling=False,\n)\nplt.show()"
      ]
    },
    {
      "cell_type": "markdown",
      "metadata": {},
      "source": [
        "we can also print the multiplets with the highest values of O-information\n\n"
      ]
    },
    {
      "cell_type": "code",
      "execution_count": null,
      "metadata": {
        "collapsed": false
      },
      "outputs": [],
      "source": [
        "print(get_nbest_mult(hoi, model=model))"
      ]
    },
    {
      "cell_type": "markdown",
      "metadata": {},
      "source": [
        "As we can see from the landscape and the printed table, the triplet (0, 1, 2)\nwith redundant interactions is present in all of the multiplets of higher\norders (order 4, 5, 6). Same thing holds with the synergistic quadruplets\n(3, 4, 5, 6). In short, the O-information can't isolate both multiplets.\n\n"
      ]
    },
    {
      "cell_type": "markdown",
      "metadata": {},
      "source": [
        "## Multiplet isolation using the Topological Information\n\nIn contrast to the O-information, the Topological Information is based on\nconditional mutual information and conditioned on lower orders. This\nconditioning should, in theory, avoid the spatial spreading. The mathematical\ndefinition of the Topological Information is given by :\n\n\\begin{align}I_{k}(X_{1}; ...; X_{k}) = \\sum_{i=1}^{k} (-1)^{i - 1} \\sum_{\n        I\\subset[k];card(I)=i} H_{i}(X_{I})\\end{align}\n\n"
      ]
    },
    {
      "cell_type": "code",
      "execution_count": null,
      "metadata": {
        "collapsed": false
      },
      "outputs": [],
      "source": [
        "model = InfoTopo(x)\nhoi = model.fit(minsize=3, method=\"gc\")"
      ]
    },
    {
      "cell_type": "markdown",
      "metadata": {},
      "source": [
        "Again, we can plot the landscape. This time, as we can see, there's no more\nspatial spreading. There are only two points and, using the printed table\nbelow, we can see that those two points correspond to our two multiplets\n(0, 1, 2) and (3, 4, 5, 6). However, the Topological Information did not\ncorrectly inferred the type of interactions as the quadruplet (3, 4, 5, 6)\nis identified as a redundant multiplet despite being synergistic.\n\n"
      ]
    },
    {
      "cell_type": "code",
      "execution_count": null,
      "metadata": {
        "collapsed": false
      },
      "outputs": [],
      "source": [
        "plot_landscape(\n    hoi,\n    model=model,\n    kind=\"scatter\",\n    plt_kwargs=dict(cmap=\"Spectral_r\"),\n    undersampling=False,\n)\nplt.show()\n\nprint(get_nbest_mult(hoi, model=model))"
      ]
    }
  ],
  "metadata": {
    "kernelspec": {
      "display_name": "Python 3",
      "language": "python",
      "name": "python3"
    },
    "language_info": {
      "codemirror_mode": {
        "name": "ipython",
        "version": 3
      },
      "file_extension": ".py",
      "mimetype": "text/x-python",
      "name": "python",
      "nbconvert_exporter": "python",
      "pygments_lexer": "ipython3",
      "version": "3.9.19"
    }
  },
  "nbformat": 4,
  "nbformat_minor": 0
}
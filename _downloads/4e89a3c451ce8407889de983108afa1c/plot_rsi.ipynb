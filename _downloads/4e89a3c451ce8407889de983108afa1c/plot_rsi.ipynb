{
  "cells": [
    {
      "cell_type": "markdown",
      "metadata": {},
      "source": [
        "\n# Redundancy-Synergy Index\n\nThis example illustrates how to use and interpret the Redundancy-Synergy\nIndex (RSI).\n"
      ]
    },
    {
      "cell_type": "code",
      "execution_count": null,
      "metadata": {
        "collapsed": false
      },
      "outputs": [],
      "source": [
        "import numpy as np\n\nfrom hoi.metrics import RSI\nfrom hoi.utils import get_nbest_mult\nfrom hoi.plot import plot_landscape\n\nimport matplotlib.pyplot as plt"
      ]
    },
    {
      "cell_type": "markdown",
      "metadata": {},
      "source": [
        "## Definition\n\nThe RSI is a multivariate measure of information capable of disentangling\nwhether a subset of a variable X carry either redundant or synergistic\ninformation about a variable Y. The RSI is defined as :\n\n"
      ]
    },
    {
      "cell_type": "markdown",
      "metadata": {},
      "source": [
        "\\begin{align}RSI(S; Y) \\equiv I(S; Y) - \\sum_{x_{i}\\in S} I(x_{i}; Y)\\end{align}\n\nwith :\n\n\\begin{align}S = x_{1}, ..., x_{n}\\end{align}\n\nPositive values of RSI stand for synergy while negative values of RSI reflect\nredundancy between the X and Y variables.\n\n"
      ]
    },
    {
      "cell_type": "markdown",
      "metadata": {},
      "source": [
        "## Simulate univariate redundancy\n\nA very simple way to simulate redundancy is to observe that if a triplet of\nvariables $X_{1}, X_{2}, X_{3}$ receive a copy of a variable $Y$,\nwe will observe redundancy between $X_{1}, X_{2}, X_{3}$ and $Y$.\n\n"
      ]
    },
    {
      "cell_type": "code",
      "execution_count": null,
      "metadata": {
        "collapsed": false
      },
      "outputs": [],
      "source": [
        "# lets start by simulating a variable x with 200 samples and 7 features\nx = np.random.rand(200, 7)\n\n# now we can also generate a univariate random variable y\ny = np.random.rand(x.shape[0])\n\n# we now send the variable y in the column (1, 3, 5) of x\nx[:, 1] += y\nx[:, 3] += y\nx[:, 5] += y\n\n# define the RSI model and launch it\nmodel = RSI(x, y)\nhoi = model.fit(minsize=3, maxsize=5)\n\n# now we can take a look at the multiplets with the highest and lowest values\n# of RSI. We will only select the multiplets of size 3 here\ndf = get_nbest_mult(hoi, model=model, minsize=3, maxsize=3, n_best=3)\nprint(df)"
      ]
    },
    {
      "cell_type": "markdown",
      "metadata": {},
      "source": [
        "as you see from the printed table, the multiplet with the lowest (i.e. the\nmost redundant multiplets) is (1, 3, 5).\n\n"
      ]
    },
    {
      "cell_type": "markdown",
      "metadata": {},
      "source": [
        "## Simulate multivariate redundancy\n\nIn the example above, we simulated a univariate $Y$ variable (i.e.\nsingle column). However, it's possible to simulate a multivariate variable.\n\n"
      ]
    },
    {
      "cell_type": "code",
      "execution_count": null,
      "metadata": {
        "collapsed": false
      },
      "outputs": [],
      "source": [
        "# simulate x again\nx = np.random.rand(200, 7)\n\n# simulate a bivariate y variable\ny = np.c_[np.random.rand(x.shape[0]), np.random.rand(x.shape[0])]\n\n# we introduce redundancy between the triplet (1, 3, 5) and the first column of\n# Y and between (0, 2, 6) and Y\nx[:, 1] += y[:, 0]\nx[:, 3] += y[:, 0]\nx[:, 5] += y[:, 0]\nx[:, 0] += y[:, 1]\nx[:, 2] += y[:, 1]\nx[:, 6] += y[:, 1]\n\n# define the RSI, launch it and inspect the best multiplets\nmodel = RSI(x, y)\nhoi = model.fit(minsize=3, maxsize=5)\ndf = get_nbest_mult(hoi, model=model, minsize=3, maxsize=3, n_best=3)\nprint(df)"
      ]
    },
    {
      "cell_type": "markdown",
      "metadata": {},
      "source": [
        "This time, as expected, the two most redundant triplets are (1, 3, 5) and\n(0, 2, 6)\n\n"
      ]
    },
    {
      "cell_type": "markdown",
      "metadata": {},
      "source": [
        "## Simulate univariate and multivariate synergy\n\nLets move on to the simulation of synergy that is a bit more subtle. One way\nof simulating synergy is to go the other way of redundancy, meaning we are\ngoing to add features of x inside y. That way, we can only retrieve the Y\nvariable by knowing the subset of X.\n\n"
      ]
    },
    {
      "cell_type": "code",
      "execution_count": null,
      "metadata": {
        "collapsed": false
      },
      "outputs": [],
      "source": [
        "# simulate the variable x\nx = np.random.rand(200, 7)\n\n# synergy between (0, 3, 5) and 5\ny = x[:, 0] + x[:, 3] + x[:, 5]\n\n# define the RSI, launch it and inspect the best multiplets\nmodel = RSI(x, y)\nhoi = model.fit(minsize=3, maxsize=5)\ndf = get_nbest_mult(hoi, model=model, minsize=3, maxsize=3, n_best=3)\nprint(df)"
      ]
    },
    {
      "cell_type": "markdown",
      "metadata": {},
      "source": [
        "as we can see here, the highest values of higher-order interactions\n(i.e. synergy) is achieved for the multiplet (0, 3, 5). Now we can do the\nsame for multivariate synergy\n\n"
      ]
    },
    {
      "cell_type": "code",
      "execution_count": null,
      "metadata": {
        "collapsed": false
      },
      "outputs": [],
      "source": [
        "# simulate the variable x\nx = np.random.rand(200, 7)\n\n# simulate y and introduce synergy between the subset (0, 3, 5) of x and the\n# subset (1, 2, 6)\ny = np.c_[\n    x[:, 0] + x[:, 3] + x[:, 5],\n    x[:, 1] + x[:, 2] + x[:, 6]\n]\n\n# define the RSI, launch it and inspect the best multiplets\nmodel = RSI(x, y)\nhoi = model.fit(minsize=3, maxsize=5)\ndf = get_nbest_mult(hoi, model=model, minsize=3, maxsize=3, n_best=3)\nprint(df)"
      ]
    },
    {
      "cell_type": "markdown",
      "metadata": {},
      "source": [
        "## Combining redundancy and synergy\n\n\n"
      ]
    },
    {
      "cell_type": "code",
      "execution_count": null,
      "metadata": {
        "collapsed": false
      },
      "outputs": [],
      "source": [
        "# simulate the variable x and y\nx = np.random.rand(200, 7)\ny = np.random.rand(200, 2)\n\n# synergy between (0, 1, 2) and the first column of y\ny[:, 0] = x[:, 0] + x[:, 1] + x[:, 2]\n\n# redundancy between (3, 4, 5) and the second column of x\nx[:, 3] += y[:, 1]\nx[:, 4] += y[:, 1]\nx[:, 5] += y[:, 1]\n\n# define the RSI, launch it and inspect the best multiplets\nmodel = RSI(x, y)\nhoi = model.fit(minsize=3, maxsize=5)\ndf = get_nbest_mult(hoi, model=model, minsize=3, maxsize=3, n_best=3)\nprint(df)\n\n# plot the result at each order to observe the spreading at orders higher than\n# 3\nplot_landscape(\n    hoi,\n    model,\n    kind=\"scatter\",\n    undersampling=False,\n    plt_kwargs=dict(cmap=\"turbo\"),\n)\nplt.show()"
      ]
    }
  ],
  "metadata": {
    "kernelspec": {
      "display_name": "Python 3",
      "language": "python",
      "name": "python3"
    },
    "language_info": {
      "codemirror_mode": {
        "name": "ipython",
        "version": 3
      },
      "file_extension": ".py",
      "mimetype": "text/x-python",
      "name": "python",
      "nbconvert_exporter": "python",
      "pygments_lexer": "ipython3",
      "version": "3.8.18"
    }
  },
  "nbformat": 4,
  "nbformat_minor": 0
}
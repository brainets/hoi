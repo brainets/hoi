{
  "cells": [
    {
      "cell_type": "markdown",
      "metadata": {},
      "source": [
        "\n# Integrated Information Decomposition\n\nThis example illustrates how to use and interpret synergy and redundancy as\ndefined in the Integrated Information Decomposition framework\n"
      ]
    },
    {
      "cell_type": "code",
      "execution_count": null,
      "metadata": {
        "collapsed": false
      },
      "outputs": [],
      "source": [
        "import matplotlib.pyplot as plt\nimport numpy as np\n\nfrom hoi.metrics import RedundancyphiID, AtomsPhiID\nfrom hoi.utils import get_nbest_mult\n\nplt.style.use(\"ggplot\")"
      ]
    },
    {
      "cell_type": "markdown",
      "metadata": {},
      "source": [
        "## Definition\n\nThe Integrated Information decomposition framework (phiID) was introduced by\nMediano et al (2021) :cite:`mediano2021beyond` to obtain a detailed\ndescription of information dynamics. One of the atoms of this decomposition,\nthat received particular attention in the literature, are the\nsynergy -> synergy atom (sts) and the redundancy -> redundancy atom (rtr).\nTo compute these two atoms, one needs first to estimate the rtr atom, which\ncan be done using the Minumum Mutual Information (MMI) approach, as:\n\n"
      ]
    },
    {
      "cell_type": "markdown",
      "metadata": {},
      "source": [
        "\\begin{align}Red(X,Y) =  min (I(X_{t-\\tau}; Y_{t}), I(X_{t-\\tau}; X_t),\n                     I(Y_{t-\\tau}; X_t), I(Y_{t-\\tau}; Y_t))\\end{align}\n\nrtr relates to the amount of information the two variables share\nabout their own future. sts instead relate to the amount of information\nthe two variables provide about their joint future.\n\n"
      ]
    },
    {
      "cell_type": "markdown",
      "metadata": {},
      "source": [
        "## Simulate synergy\n\nA very simple way to simulate synergy is by to start with two independent\nvariables and inflate autocorrelation by\nvariables $X_{1}, X_{2}, X_{3}$ receive a copy of a variable $Y$,\nwe will observe redundancy between $X_{1}, X_{2}, X_{3}$ and $Y$.\n\n"
      ]
    },
    {
      "cell_type": "code",
      "execution_count": null,
      "metadata": {
        "collapsed": false
      },
      "outputs": [],
      "source": [
        "# lets start by simulating a variable x with 200 samples and 7 features\nx = np.random.rand(200, 7)\n\n# now to create synergy between the two first features, we do the following:\n# to create interdependencies between past and future we use a uniform\n# kernel in the following way\n\nfor i in range(190):\n    x[i, 0] = np.sum(x[i : i + 20, 1]) + 0.2 * np.sum(x[i : i + 20, 0])\n    x[i, 1] = np.sum(x[i : i + 20, 0]) + 0.2 * np.sum(x[i : i + 20, 1])\n\n# define the sts model and launch it (AtomsPhiID return by default sts)\nmodel = AtomsPhiID(x)\nhoi = model.fit(minsize=2, maxsize=2)\n\n# now we can take a look at the multiplets with the highest and lowest values\n# of synergy. We will only select the multiplets of size 2 here\ndf = get_nbest_mult(hoi, model=model, minsize=2, maxsize=2, n_best=3)\nprint(df)"
      ]
    },
    {
      "cell_type": "markdown",
      "metadata": {},
      "source": [
        "as you see from the printed table, the couple of variables with the highest\nsynergy is [0,1]\n\n"
      ]
    },
    {
      "cell_type": "markdown",
      "metadata": {},
      "source": [
        "## Simulate redundancy\n\n"
      ]
    },
    {
      "cell_type": "code",
      "execution_count": null,
      "metadata": {
        "collapsed": false
      },
      "outputs": [],
      "source": [
        "# simulate x again\nx = np.random.rand(200, 7)\n\n# now to create redundancy between the two first features, we do the following:\n# to create interdependencies between past and future we use a uniform\n# kernel in the following way\n\nfor i in range(190):\n    x[i, 0] = np.sum(x[i : i + 20, 1])\n\n# Redundancy emerges when the two variables carry the same information about\n# Their future. This can be achieved by copy operation between the two\n# variables plus some noise.\n\nx[:, 1] = x[:, 0] + np.random.rand(200) * 0.05\n\n# define the redundancyphiID, launch it and inspect the best multiplets\nmodel = RedundancyphiID(x)\nhoi = model.fit(minsize=2, maxsize=2)\ndf = get_nbest_mult(hoi, model=model, minsize=2, maxsize=2, n_best=3)\nprint(df)"
      ]
    },
    {
      "cell_type": "markdown",
      "metadata": {},
      "source": [
        "This time, as expected, the two most redundant couple of variable is [0,1]\n\n"
      ]
    },
    {
      "cell_type": "markdown",
      "metadata": {},
      "source": [
        "## Combining redundancy and synergy\n\n\n"
      ]
    },
    {
      "cell_type": "code",
      "execution_count": null,
      "metadata": {
        "collapsed": false
      },
      "outputs": [],
      "source": [
        "# simulate the variable x\nn_features = 7\nx = np.random.rand(200, n_features)\n\n# synergy between (0, 1)\nfor i in range(190):\n    x[i, 0] = np.sum(x[i : i + 20, 1]) + 0.1 * np.sum(x[i : i + 20, 0])\n    x[i, 1] = np.sum(x[i : i + 20, 0]) + 0.1 * np.sum(x[i : i + 20, 1])\n\n# redundancy between (0, 2), this will inject also synergy between\n# variables 1 and 2\n\nx[:, 2] = x[:, 0] + np.random.rand(200) * 0.05"
      ]
    },
    {
      "cell_type": "markdown",
      "metadata": {},
      "source": [
        "define the AtomsPhiID, launch it and inspect the best couples of\nvariables\n\n"
      ]
    },
    {
      "cell_type": "code",
      "execution_count": null,
      "metadata": {
        "collapsed": false
      },
      "outputs": [],
      "source": [
        "model = AtomsPhiID(x)\nsyn_results = model.fit(minsize=2, maxsize=2)\ndf = get_nbest_mult(hoi, model=model, minsize=2, maxsize=2, n_best=3)\nprint(df)\n\n# store the results in a matrix\n\nmatrix_to_plot = np.zeros((n_features, n_features))\nfor i, tup in enumerate(model.get_combinations(minsize=2, maxsize=2)[0]):\n    m, g = tup\n    matrix_to_plot[m, g] = syn_results[i][0]\n\n# plot the results matrix simmetrized\n\nplt.imshow(\n    matrix_to_plot + matrix_to_plot.T, aspect=\"auto\", interpolation=\"none\"\n)\nplt.colorbar()\nplt.show()"
      ]
    },
    {
      "cell_type": "markdown",
      "metadata": {},
      "source": [
        "define the RedundancyphiID, launch it and inspect the best couples of\nvariables (smilar results can be obtained using AtomsPhiID, with atom='rtr')\n\n"
      ]
    },
    {
      "cell_type": "code",
      "execution_count": null,
      "metadata": {
        "collapsed": false
      },
      "outputs": [],
      "source": [
        "model = RedundancyphiID(x)\nred_results = model.fit(minsize=2, maxsize=2)\ndf = get_nbest_mult(red_results, model=model, minsize=2, maxsize=2, n_best=3)\nprint(df)\n\n# store the results in a matrix\n\nmatrix_to_plot = np.zeros((n_features, n_features))\nfor i, tup in enumerate(model.get_combinations(minsize=2, maxsize=2)[0]):\n    m, g = tup\n    matrix_to_plot[m, g] = red_results[i][0]\n\n# plot the results matrix\n\nplt.imshow(\n    matrix_to_plot + matrix_to_plot.T, aspect=\"auto\", interpolation=\"none\"\n)\nplt.colorbar()\nplt.show()"
      ]
    }
  ],
  "metadata": {
    "kernelspec": {
      "display_name": "Python 3",
      "language": "python",
      "name": "python3"
    },
    "language_info": {
      "codemirror_mode": {
        "name": "ipython",
        "version": 3
      },
      "file_extension": ".py",
      "mimetype": "text/x-python",
      "name": "python",
      "nbconvert_exporter": "python",
      "pygments_lexer": "ipython3",
      "version": "3.9.23"
    }
  },
  "nbformat": 4,
  "nbformat_minor": 0
}
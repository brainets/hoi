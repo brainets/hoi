{
  "cells": [
    {
      "cell_type": "markdown",
      "metadata": {},
      "source": [
        "\n# Metrics example 1\nLorem ipsum, dolor sit amet consectetur adipisicing elit. Nesciunt neque,\nperferendis sed id doloribus at error in ea nulla reprehenderit optio rerum\nnostrum harum voluptas, sequi laudantium numquam accusantium consequuntur minus\nquisquam autem magnam distinctio. Itaque, fuga quisquam. Dolorum commodi\nmolestiae soluta, dolorem tenetur magni illum distinctio minus vero tempore\nquibusdam totam sed, sapiente aliquam aperiam sunt accusantium quisquam eos\nrerum cupiditate fuga debitis inventore. Exercitationem nihil ipsa aliquid,\nplaceat laborum ut vel odio deserunt adipisci minima blanditiis aperiam nisi\nveniam cum labore deleniti reiciendis earum eligendi dignissimos suscipit\nbeatae ex a! Omnis commodi modi magnam esse molestias odit, non unde eius vel,\naspernatur perferendis voluptatibus nam nihil, aut et. Molestias, quos quia\nsoluta minus illum amet cupiditate iure a assumenda debitis sint dolor, dolorem\nat.\n"
      ]
    },
    {
      "cell_type": "code",
      "execution_count": null,
      "metadata": {
        "collapsed": false
      },
      "outputs": [],
      "source": [
        "import numpy as np\n\nfrom hoi.metrics import Oinfo, InfoTopo\nfrom hoi.plot import plot_landscape\nfrom hoi.utils import get_nbest_mult\nfrom hoi.simulation import simulate_hois_gauss\n\nimport matplotlib.pyplot as plt\n\nplt.style.use(\"ggplot\")\n\nx = simulate_hois_gauss()\n\nmodel = InfoTopo(x)\nhoi = model.fit(minsize=3, maxsize=None, method=\"gcmi\")\n\nprint(get_nbest_mult(hoi, model))\n\nplot_landscape(hoi, model=model, plt_kwargs=dict(cmap=\"turbo\"))\nplt.tight_layout()\nplt.show()"
      ]
    }
  ],
  "metadata": {
    "kernelspec": {
      "display_name": "Python 3",
      "language": "python",
      "name": "python3"
    },
    "language_info": {
      "codemirror_mode": {
        "name": "ipython",
        "version": 3
      },
      "file_extension": ".py",
      "mimetype": "text/x-python",
      "name": "python",
      "nbconvert_exporter": "python",
      "pygments_lexer": "ipython3",
      "version": "3.8.18"
    }
  },
  "nbformat": 4,
  "nbformat_minor": 0
}
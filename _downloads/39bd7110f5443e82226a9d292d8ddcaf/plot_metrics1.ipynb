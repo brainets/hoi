{
  "cells": [
    {
      "cell_type": "markdown",
      "metadata": {},
      "source": [
        "\n# Metrics example 1\nLorem ipsum, dolor sit amet consectetur adipisicing elit.\n"
      ]
    },
    {
      "cell_type": "code",
      "execution_count": null,
      "metadata": {
        "collapsed": false
      },
      "outputs": [],
      "source": [
        "import numpy as np\n\nfrom hoi.metrics import Oinfo\nfrom hoi.plot import plot_landscape\n\nimport matplotlib.pyplot as plt\n\nplt.style.use(\"ggplot\")\n\nx = np.random.rand(500, 10)\n# x[:, 7] = x[:, 0] + x[:, 1]\n# x[:, 8] = x[:, 3]\n# x[:, 9] = x[:, 3]\n\n\nmodel = Oinfo(x)\nhoi = model.fit(minsize=3, maxsize=None, method=\"gcmi\")\n\nplot_landscape(hoi, model=model, plt_kwargs=dict(cmap=\"turbo\"))\nplt.tight_layout()\nplt.show()"
      ]
    }
  ],
  "metadata": {
    "kernelspec": {
      "display_name": "Python 3",
      "language": "python",
      "name": "python3"
    },
    "language_info": {
      "codemirror_mode": {
        "name": "ipython",
        "version": 3
      },
      "file_extension": ".py",
      "mimetype": "text/x-python",
      "name": "python",
      "nbconvert_exporter": "python",
      "pygments_lexer": "ipython3",
      "version": "3.8.17"
    }
  },
  "nbformat": 4,
  "nbformat_minor": 0
}
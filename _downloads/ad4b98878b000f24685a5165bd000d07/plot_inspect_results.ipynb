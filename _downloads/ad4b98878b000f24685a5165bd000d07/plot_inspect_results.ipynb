{
  "cells": [
    {
      "cell_type": "markdown",
      "metadata": {},
      "source": [
        "\n# Inspect and plot Higher-Order Interactions\n\nThis example illustrates how to :\n1. Inspect and analyse metric's output\n2. Plot Higher-Order Interactions\n"
      ]
    },
    {
      "cell_type": "code",
      "execution_count": null,
      "metadata": {
        "collapsed": false
      },
      "outputs": [],
      "source": [
        "import matplotlib.pyplot as plt\nimport numpy as np\nimport xgi\nfrom sklearn.preprocessing import MinMaxScaler\n\nfrom hoi.metrics import InfoTopo\nfrom hoi.plot import plot_landscape\nfrom hoi.utils import get_nbest_mult\n\nplt.style.use(\"ggplot\")"
      ]
    },
    {
      "cell_type": "markdown",
      "metadata": {},
      "source": [
        "## Simulate data\n\nIn this first part, we simulate data to showcase how to analyse results\n\n"
      ]
    },
    {
      "cell_type": "code",
      "execution_count": null,
      "metadata": {
        "collapsed": false
      },
      "outputs": [],
      "source": [
        "# create random data\nnp.random.seed(42)\nx = np.random.rand(200, 6)\n\n# inject redundancy between [0, 1, 2]\nx[:, 0] += x[:, 1]\nx[:, 2] += x[:, 1]\n\n# inject synergy between [3, 4, 5]\nx[:, 3] += x[:, 4] + x[:, 5]"
      ]
    },
    {
      "cell_type": "markdown",
      "metadata": {},
      "source": [
        "## Estimate HOI\n\nThe we can estimate the HOI. Here, we are going to use the InfoTopo metrics\nbut you can use any implemented metric.\n\n"
      ]
    },
    {
      "cell_type": "code",
      "execution_count": null,
      "metadata": {
        "collapsed": false
      },
      "outputs": [],
      "source": [
        "# define the model\nmodel = InfoTopo(x)\n\n# estimate hoi from order 3 up to order 6\nhoi = model.fit(minsize=3, maxsize=6, method=\"gc\")"
      ]
    },
    {
      "cell_type": "markdown",
      "metadata": {},
      "source": [
        "## Get a summary of the results\n\nTo get a summary table of the results, you can use the\n:func:`hoi.utils.get_nbest_mult` function. This functions returns a Pandas\nDataFrame with the highest and lowest values of hoi.\n\n"
      ]
    },
    {
      "cell_type": "code",
      "execution_count": null,
      "metadata": {
        "collapsed": false
      },
      "outputs": [],
      "source": [
        "summary = get_nbest_mult(hoi, model=model)\nprint(summary)"
      ]
    },
    {
      "cell_type": "markdown",
      "metadata": {},
      "source": [
        "For the InfoTopo estimator, positive values of HOI refer to redundant\ninteractions while negative values of HOI refer to synergistic interactions.\nAs you can see from the summary table, we retrieve the multiplet `[0, 1, 2]`\nwith the largest value and `[3, 4, 5]` with the smallest.\n\n"
      ]
    },
    {
      "cell_type": "markdown",
      "metadata": {},
      "source": [
        "## Landscape plot\n\nThe landscape plot can be used to visualize how the information spreads\nacross orders. In our example, we only injected redundancy and synergy\nbetween triplets.\n\n"
      ]
    },
    {
      "cell_type": "code",
      "execution_count": null,
      "metadata": {
        "collapsed": false
      },
      "outputs": [],
      "source": [
        "plot_landscape(hoi, model=model, kind=\"scatter\")\nplt.show()"
      ]
    },
    {
      "cell_type": "markdown",
      "metadata": {},
      "source": [
        "## Plotting individual multiplets\n\nAlternatively, you can use the\n[xgi](https://xgi.readthedocs.io/en/stable/index.html)\nPython package to plot individual multiplets. The example below the\nmultiplets with the 2 highest redundancy and the two highest synergy. \n\n"
      ]
    },
    {
      "cell_type": "code",
      "execution_count": null,
      "metadata": {
        "collapsed": false
      },
      "outputs": [],
      "source": [
        "# get summary\nsummary = get_nbest_mult(hoi, model=model, minsize=3, maxsize=3, n_best=2)\n\n# extract the hoi values and the multiplets\nhoi_order_3 = summary[\"hoi\"]\nmult_order_3 = summary[\"multiplet\"]\n\n# define an hypergraph object\nH = xgi.Hypergraph()\n\n# add the 6 nodes and define a circular layout\nH.add_nodes_from(np.arange(6))\npos = xgi.drawing.layout.circular_layout(H)\n\n# add edges\nH.add_edges_from(mult_order_3.tolist())\n\n# plot the hypergraph\nax, collections = xgi.draw(\n    H,\n    pos=pos,\n    node_labels=True,\n    font_size_nodes=11,\n    node_size=0,\n    edge_fc=hoi_order_3,\n    edge_fc_cmap=\"Spectral_r\",\n    alpha=0.8,\n    hull=True,\n)\nplt.show()\n\n# sphinx_gallery_thumbnail_number = 2"
      ]
    }
  ],
  "metadata": {
    "kernelspec": {
      "display_name": "Python 3",
      "language": "python",
      "name": "python3"
    },
    "language_info": {
      "codemirror_mode": {
        "name": "ipython",
        "version": 3
      },
      "file_extension": ".py",
      "mimetype": "text/x-python",
      "name": "python",
      "nbconvert_exporter": "python",
      "pygments_lexer": "ipython3",
      "version": "3.9.20"
    }
  },
  "nbformat": 4,
  "nbformat_minor": 0
}
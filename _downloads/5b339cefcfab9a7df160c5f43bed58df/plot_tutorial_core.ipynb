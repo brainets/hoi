{
  "cells": [
    {
      "cell_type": "markdown",
      "metadata": {},
      "source": [
        "\n# Introduction to core information theoretical metrics\n\nThis introduction guides you through the core information theoretical metrics\navailable. These metrics are the entropy and the mutual information.\n"
      ]
    },
    {
      "cell_type": "code",
      "execution_count": null,
      "metadata": {
        "collapsed": false
      },
      "outputs": [],
      "source": [
        "import numpy as np\nfrom hoi.core import get_entropy\nfrom hoi.core import get_mi"
      ]
    },
    {
      "cell_type": "markdown",
      "metadata": {},
      "source": [
        "## Entropy\n\nThe fundamental information theoretical metric is the entropy. Most of the\nother higher-order metrics of information theory defined in HOI are based on\nthe entropy.\n\nIn HOI there are 4 different methods to compute the entropy, in this tutorial\nwe will use the estimation based on the Gaussian Copula estimation.\n\nLet's start by extracting a sample `x` from a multivariate Gaussian\ndistribution with zero mean and unit variance:\n\n"
      ]
    },
    {
      "cell_type": "code",
      "execution_count": null,
      "metadata": {
        "collapsed": false
      },
      "outputs": [],
      "source": [
        "D = 3\nx = np.random.normal(size=(D, 1000))"
      ]
    },
    {
      "cell_type": "markdown",
      "metadata": {},
      "source": [
        "Now we can compute the entropy of `x`. We use the function `get_entropy` to\nbuild a callable function to compute the entropy. The function `get_entropy`\ntakes as input the method to use to compute the entropy. In this case we use\nthe Gaussian Copula estimation, so we set the method to `\"gc\":\n\n"
      ]
    },
    {
      "cell_type": "code",
      "execution_count": null,
      "metadata": {
        "collapsed": false
      },
      "outputs": [],
      "source": [
        "entropy = get_entropy(method=\"gc\")"
      ]
    },
    {
      "cell_type": "markdown",
      "metadata": {},
      "source": [
        "Now we can compute the entropy of `x` by calling the function `entropy`. This\nfunction takes as input an array of data of shape `(n_features, n_samples)`.\nFor the Gaussian Copula estimation, the entropy is computed in bits. We have:\n\n"
      ]
    },
    {
      "cell_type": "code",
      "execution_count": null,
      "metadata": {
        "collapsed": false
      },
      "outputs": [],
      "source": [
        "print(\"Entropy of x: %.2f\" % entropy(x))"
      ]
    },
    {
      "cell_type": "markdown",
      "metadata": {},
      "source": [
        "For comparison, we can compute the entropy of a multivariate Gaussian with\nthe analytical formula, which is:\n\n\\begin{align}H(X) = \\frac{1}{2} \\log \\left( (2 \\pi e)^D \\det(\\Sigma) \\right)\\end{align}\n\nwhere $D$ is the dimensionality of the Gaussian and $\\Sigma$ is\nthe covariance matrix of the Gaussian. We have:\n\n"
      ]
    },
    {
      "cell_type": "code",
      "execution_count": null,
      "metadata": {
        "collapsed": false
      },
      "outputs": [],
      "source": [
        "C = np.cov(x, rowvar=True)\nentropy_analytical = (\n    0.5 * (np.log(np.linalg.det(C)) + D * (1 + np.log(2 * np.pi)))\n) / np.log(2)\nprint(\"Analytical entropy of x: %.2f\" % entropy_analytical)"
      ]
    },
    {
      "cell_type": "markdown",
      "metadata": {},
      "source": [
        "We see that the two values are very close.\n\n## Mutual information\n\nThe mutual information is another fundamental information theoretical metric.\nIn this tutorial we will compute the mutual information between two variables\n`x` and `y`. `x` is a multivariate Gaussian with zero mean and unit variance,\nwhile `y` is a multivariate uniform distribution in the interval $[0,1]$.\nSince the two variables are independent, the mutual information between them\nis expected to be zero.\n\n"
      ]
    },
    {
      "cell_type": "code",
      "execution_count": null,
      "metadata": {
        "collapsed": false
      },
      "outputs": [],
      "source": [
        "D = 3\nx = np.random.normal(size=(D, 1000))\ny = np.random.rand(D, 1000)\n\nmi = get_mi(method=\"gc\")\nprint(\"Mutual information between x and y: %.2f\" % mi(x, y))"
      ]
    }
  ],
  "metadata": {
    "kernelspec": {
      "display_name": "Python 3",
      "language": "python",
      "name": "python3"
    },
    "language_info": {
      "codemirror_mode": {
        "name": "ipython",
        "version": 3
      },
      "file_extension": ".py",
      "mimetype": "text/x-python",
      "name": "python",
      "nbconvert_exporter": "python",
      "pygments_lexer": "ipython3",
      "version": "3.9.19"
    }
  },
  "nbformat": 4,
  "nbformat_minor": 0
}